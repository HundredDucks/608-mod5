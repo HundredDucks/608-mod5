{
 "cells": [
  {
   "cell_type": "markdown",
   "id": "4265483c-a3ae-4cac-8926-c369d72e8f2d",
   "metadata": {},
   "source": [
    "8.2 Formatting Strings"
   ]
  },
  {
   "cell_type": "code",
   "execution_count": 2,
   "id": "ba264b2e-236e-4ce1-8ab1-2561849f24c7",
   "metadata": {},
   "outputs": [
    {
     "data": {
      "text/plain": [
       "'17.49'"
      ]
     },
     "execution_count": 2,
     "metadata": {},
     "output_type": "execute_result"
    }
   ],
   "source": [
    "f'{17.489:.2f}'"
   ]
  },
  {
   "cell_type": "code",
   "execution_count": 3,
   "id": "ee8903f1-f6c5-4e5a-bfab-ec8b9c9a2704",
   "metadata": {},
   "outputs": [
    {
     "data": {
      "text/plain": [
       "'10'"
      ]
     },
     "execution_count": 3,
     "metadata": {},
     "output_type": "execute_result"
    }
   ],
   "source": [
    "#d presentation type formats integers as strings\n",
    "f'{10:d}'"
   ]
  },
  {
   "cell_type": "code",
   "execution_count": 4,
   "id": "94bee684-9e5b-4925-86fd-003943bf27a2",
   "metadata": {},
   "outputs": [
    {
     "data": {
      "text/plain": [
       "'A a'"
      ]
     },
     "execution_count": 4,
     "metadata": {},
     "output_type": "execute_result"
    }
   ],
   "source": [
    "#c presentation type formats an integer character code as the corresponding character\n",
    "f'{65:c} {97:c}'"
   ]
  },
  {
   "cell_type": "code",
   "execution_count": 5,
   "id": "f748f7e3-323b-4d4f-9e57-678a4692d4ba",
   "metadata": {},
   "outputs": [
    {
     "data": {
      "text/plain": [
       "'hello 7'"
      ]
     },
     "execution_count": 5,
     "metadata": {},
     "output_type": "execute_result"
    }
   ],
   "source": [
    "#s presentation type for strings\n",
    "f'{\"hello\":s} {7}'"
   ]
  },
  {
   "cell_type": "code",
   "execution_count": 7,
   "id": "776dbd29-0c55-4499-86dd-f09aabc84032",
   "metadata": {},
   "outputs": [],
   "source": [
    "from decimal import Decimal"
   ]
  },
  {
   "cell_type": "code",
   "execution_count": 8,
   "id": "a95882e7-c27d-470a-9766-d3561704f85a",
   "metadata": {},
   "outputs": [
    {
     "data": {
      "text/plain": [
       "'1000000000000.000'"
      ]
     },
     "execution_count": 8,
     "metadata": {},
     "output_type": "execute_result"
    }
   ],
   "source": [
    "#floating point and decimal values\n",
    "f'{Decimal(\"1000000000000.0\"):.3f}'"
   ]
  },
  {
   "cell_type": "code",
   "execution_count": 9,
   "id": "8fb991a9-6453-44e1-9638-027eadd1c7f6",
   "metadata": {},
   "outputs": [
    {
     "data": {
      "text/plain": [
       "'1.000e+13'"
      ]
     },
     "execution_count": 9,
     "metadata": {},
     "output_type": "execute_result"
    }
   ],
   "source": [
    "#exponential (scientific) notation\n",
    "f'{Decimal(\"10000000000000.0\"):.3e}'"
   ]
  },
  {
   "cell_type": "markdown",
   "id": "e6237bf3-936b-4840-9c71-bd195cd5ee5e",
   "metadata": {},
   "source": [
    "8.2.1 Self Check 3"
   ]
  },
  {
   "cell_type": "code",
   "execution_count": 10,
   "id": "913d5323-ec8a-463e-a5ad-4d6b14ae6b71",
   "metadata": {},
   "outputs": [
    {
     "name": "stdout",
     "output_type": "stream",
     "text": [
      ": - )\n"
     ]
    }
   ],
   "source": [
    "print(f'{58:c} {45:c} {41:c}')"
   ]
  },
  {
   "cell_type": "markdown",
   "id": "99fbdd5a-42f5-4fb0-8092-ad77b50424cc",
   "metadata": {},
   "source": [
    "8.2.2 Field Widths and Alignment"
   ]
  },
  {
   "cell_type": "code",
   "execution_count": 11,
   "id": "100ca34a-e45c-441e-811d-a616ad893f53",
   "metadata": {},
   "outputs": [
    {
     "data": {
      "text/plain": [
       "'[        27]'"
      ]
     },
     "execution_count": 11,
     "metadata": {},
     "output_type": "execute_result"
    }
   ],
   "source": [
    "f'[{27:10d}]'"
   ]
  },
  {
   "cell_type": "code",
   "execution_count": 12,
   "id": "c1ef2f25-76bc-4ae7-a887-0dd6662b9421",
   "metadata": {},
   "outputs": [
    {
     "data": {
      "text/plain": [
       "'[  2.500000]'"
      ]
     },
     "execution_count": 12,
     "metadata": {},
     "output_type": "execute_result"
    }
   ],
   "source": [
    "f'[{2.5:10f}]'"
   ]
  },
  {
   "cell_type": "code",
   "execution_count": 13,
   "id": "e7540b6e-0faa-4827-a962-59952e094420",
   "metadata": {},
   "outputs": [
    {
     "data": {
      "text/plain": [
       "'[hello     ]'"
      ]
     },
     "execution_count": 13,
     "metadata": {},
     "output_type": "execute_result"
    }
   ],
   "source": [
    "f'[{\"hello\":10}]'"
   ]
  },
  {
   "cell_type": "code",
   "execution_count": 14,
   "id": "fc5ce018-de3c-4297-9e74-1e719bf216a0",
   "metadata": {},
   "outputs": [
    {
     "data": {
      "text/plain": [
       "'[27             ]'"
      ]
     },
     "execution_count": 14,
     "metadata": {},
     "output_type": "execute_result"
    }
   ],
   "source": [
    "#left alignment with <\n",
    "f'[{27:<15d}]'"
   ]
  },
  {
   "cell_type": "code",
   "execution_count": 15,
   "id": "2b937c8f-53c2-4b61-b774-9ed7e3a864ec",
   "metadata": {},
   "outputs": [
    {
     "data": {
      "text/plain": [
       "'[3.500000       ]'"
      ]
     },
     "execution_count": 15,
     "metadata": {},
     "output_type": "execute_result"
    }
   ],
   "source": [
    "f'[{3.5:<15f}]'"
   ]
  },
  {
   "cell_type": "code",
   "execution_count": 16,
   "id": "a4be1dd7-658b-4473-a46b-8ef062e2ae3d",
   "metadata": {},
   "outputs": [
    {
     "data": {
      "text/plain": [
       "'[          hello]'"
      ]
     },
     "execution_count": 16,
     "metadata": {},
     "output_type": "execute_result"
    }
   ],
   "source": [
    "#right alignment with >\n",
    "f'[{\"hello\":>15}]'"
   ]
  },
  {
   "cell_type": "code",
   "execution_count": 18,
   "id": "a837155a-0133-4315-a620-e9873a6b8b30",
   "metadata": {},
   "outputs": [
    {
     "data": {
      "text/plain": [
       "'[  27   ]'"
      ]
     },
     "execution_count": 18,
     "metadata": {},
     "output_type": "execute_result"
    }
   ],
   "source": [
    "#center values with ^\n",
    "f'[{27:^7d}]'"
   ]
  },
  {
   "cell_type": "code",
   "execution_count": 20,
   "id": "1a63cdbb-c302-4012-b43b-fcb3b808298a",
   "metadata": {},
   "outputs": [
    {
     "data": {
      "text/plain": [
       "'[  3.5  ]'"
      ]
     },
     "execution_count": 20,
     "metadata": {},
     "output_type": "execute_result"
    }
   ],
   "source": [
    "f'[{3.5:^7.1f}]'"
   ]
  },
  {
   "cell_type": "code",
   "execution_count": 21,
   "id": "5ae57e74-6b54-4e18-a3be-287762001993",
   "metadata": {},
   "outputs": [
    {
     "data": {
      "text/plain": [
       "'[ hello ]'"
      ]
     },
     "execution_count": 21,
     "metadata": {},
     "output_type": "execute_result"
    }
   ],
   "source": [
    "f'[{\"hello\":^7}]'"
   ]
  },
  {
   "cell_type": "markdown",
   "id": "19a51b00-3969-46b2-9102-e2afcfc95b4c",
   "metadata": {},
   "source": [
    "8.2.2 Self Check 2"
   ]
  },
  {
   "cell_type": "code",
   "execution_count": 22,
   "id": "e9d68898-099c-4467-8739-80fa53d4ce27",
   "metadata": {},
   "outputs": [
    {
     "name": "stdout",
     "output_type": "stream",
     "text": [
      "[    Amanda]\n",
      "[  Amanda  ]\n",
      "[Amanda    ]\n"
     ]
    }
   ],
   "source": [
    "print(f'[{\"Amanda\":>10}]\\n[{\"Amanda\":^10}]\\n[{\"Amanda\":<10}]')"
   ]
  },
  {
   "cell_type": "markdown",
   "id": "2c7f5eca-4a3c-4d54-860e-2891f437fa06",
   "metadata": {},
   "source": [
    "8.2.3 Numeric Formatting"
   ]
  },
  {
   "cell_type": "code",
   "execution_count": 23,
   "id": "2c5a3831-f6f1-49cc-a54e-c1628a1c38b8",
   "metadata": {},
   "outputs": [
    {
     "data": {
      "text/plain": [
       "'[       +27]'"
      ]
     },
     "execution_count": 23,
     "metadata": {},
     "output_type": "execute_result"
    }
   ],
   "source": [
    "#add sign to positive number\n",
    "f'[{27:+10d}]'"
   ]
  },
  {
   "cell_type": "code",
   "execution_count": 24,
   "id": "49ec1edb-2db8-4377-854f-8f78ee65bda7",
   "metadata": {},
   "outputs": [
    {
     "data": {
      "text/plain": [
       "'[+000000027]'"
      ]
     },
     "execution_count": 24,
     "metadata": {},
     "output_type": "execute_result"
    }
   ],
   "source": [
    "#fill remaining characters with 0s instead of spaces by placing a 0 before the field width and after + if there is one\n",
    "f'[{27:+010d}]'"
   ]
  },
  {
   "cell_type": "code",
   "execution_count": 25,
   "id": "58a132d8-9a14-4820-8992-154bfbe668bc",
   "metadata": {},
   "outputs": [
    {
     "name": "stdout",
     "output_type": "stream",
     "text": [
      "27\n",
      " 27\n",
      "-27\n"
     ]
    }
   ],
   "source": [
    "#space indicates that positive numbers should show a space character in the sign position\n",
    "print(f'{27:d}\\n{27: d}\\n{-27: d}')"
   ]
  },
  {
   "cell_type": "code",
   "execution_count": 26,
   "id": "9a1c0bc7-6867-4ebf-a849-56cad73c010c",
   "metadata": {},
   "outputs": [
    {
     "data": {
      "text/plain": [
       "'12,345,678'"
      ]
     },
     "execution_count": 26,
     "metadata": {},
     "output_type": "execute_result"
    }
   ],
   "source": [
    "#format numbers with thousands separators by using a comma\n",
    "f'{12345678:,d}'"
   ]
  },
  {
   "cell_type": "code",
   "execution_count": 27,
   "id": "c95aa5c7-68ab-487f-ae25-38520ce3d399",
   "metadata": {},
   "outputs": [
    {
     "data": {
      "text/plain": [
       "'123,456.78'"
      ]
     },
     "execution_count": 27,
     "metadata": {},
     "output_type": "execute_result"
    }
   ],
   "source": [
    "f'{123456.78:,.2f}'"
   ]
  },
  {
   "cell_type": "markdown",
   "id": "ff2b9239-05c0-43c6-99a8-d0a36cc63d65",
   "metadata": {},
   "source": [
    "8.2.3 Self Check 2"
   ]
  },
  {
   "cell_type": "code",
   "execution_count": 28,
   "id": "c4c3f0b2-2944-4def-8d5e-93153cdd806b",
   "metadata": {},
   "outputs": [
    {
     "name": "stdout",
     "output_type": "stream",
     "text": [
      "+10,240.47\n",
      " -3,210.95\n"
     ]
    }
   ],
   "source": [
    "print(f'{10240.473:+10,.2f}\\n{-3210.9521:+10,.2f}')"
   ]
  },
  {
   "cell_type": "markdown",
   "id": "afb77553-ed2a-44da-aac3-f1cd838f0a37",
   "metadata": {},
   "source": [
    "8.2.4 String's format Method"
   ]
  },
  {
   "cell_type": "code",
   "execution_count": 29,
   "id": "2cd04204-bbe1-4f64-aecd-defd629ff06d",
   "metadata": {},
   "outputs": [],
   "source": [
    "#format method used before Python 3.6, replaced by f-string. May still be useful to know in case you run into old code"
   ]
  },
  {
   "cell_type": "code",
   "execution_count": 30,
   "id": "1f599898-53a0-433b-9a6b-10275f809443",
   "metadata": {},
   "outputs": [
    {
     "data": {
      "text/plain": [
       "'17.49'"
      ]
     },
     "execution_count": 30,
     "metadata": {},
     "output_type": "execute_result"
    }
   ],
   "source": [
    "'{:.2f}'.format(17.489)"
   ]
  },
  {
   "cell_type": "code",
   "execution_count": 31,
   "id": "68ace975-bcc3-4b4a-be51-a2ce4e8991cc",
   "metadata": {},
   "outputs": [
    {
     "data": {
      "text/plain": [
       "'Amanda Cyan'"
      ]
     },
     "execution_count": 31,
     "metadata": {},
     "output_type": "execute_result"
    }
   ],
   "source": [
    "'{} {}'.format('Amanda', 'Cyan')"
   ]
  },
  {
   "cell_type": "code",
   "execution_count": 32,
   "id": "ae4038d4-81ca-435e-b251-0e3d375f705a",
   "metadata": {},
   "outputs": [
    {
     "data": {
      "text/plain": [
       "'Happy Happy Birthday'"
      ]
     },
     "execution_count": 32,
     "metadata": {},
     "output_type": "execute_result"
    }
   ],
   "source": [
    "'{0} {0} {1}'.format('Happy', 'Birthday')"
   ]
  },
  {
   "cell_type": "code",
   "execution_count": 33,
   "id": "7d8dca9a-fea9-4646-a762-d30d017e40b0",
   "metadata": {},
   "outputs": [
    {
     "data": {
      "text/plain": [
       "'Amanda Gray'"
      ]
     },
     "execution_count": 33,
     "metadata": {},
     "output_type": "execute_result"
    }
   ],
   "source": [
    "'{first} {last}'.format(first='Amanda', last='Gray')"
   ]
  },
  {
   "cell_type": "code",
   "execution_count": 34,
   "id": "88b9e394-6c07-498c-937a-0a987dbbcb45",
   "metadata": {},
   "outputs": [
    {
     "data": {
      "text/plain": [
       "'Gray Amanda'"
      ]
     },
     "execution_count": 34,
     "metadata": {},
     "output_type": "execute_result"
    }
   ],
   "source": [
    "'{last} {first}'.format(first='Amanda', last='Gray')"
   ]
  },
  {
   "cell_type": "markdown",
   "id": "540835cc-193e-4824-8024-70ec5a66b246",
   "metadata": {},
   "source": [
    "8.2.4 Self Check 1"
   ]
  },
  {
   "cell_type": "code",
   "execution_count": 35,
   "id": "b7ed807d-fa54-4313-8eb4-7ff6279b5727",
   "metadata": {},
   "outputs": [
    {
     "name": "stdout",
     "output_type": "stream",
     "text": [
      ":-)\n"
     ]
    }
   ],
   "source": [
    "print('{:c}{:c}{:c}'.format(58, 45, 41))"
   ]
  },
  {
   "cell_type": "code",
   "execution_count": 36,
   "id": "1db7edfd-8658-4b1b-90c2-73674149ed6a",
   "metadata": {},
   "outputs": [
    {
     "name": "stdout",
     "output_type": "stream",
     "text": [
      "[    Amanda]\n",
      "[  Amanda  ]\n",
      "[Amanda    ]\n"
     ]
    }
   ],
   "source": [
    "print('[{0:>10}]\\n[{0:^10}]\\n[{0:<10}]'.format('Amanda'))"
   ]
  },
  {
   "cell_type": "code",
   "execution_count": 37,
   "id": "8fed6cb6-b890-49c7-97f8-bead4b9203a8",
   "metadata": {},
   "outputs": [
    {
     "name": "stdout",
     "output_type": "stream",
     "text": [
      "+10,240.47\n",
      "  -3210.95\n"
     ]
    }
   ],
   "source": [
    "print('{:+10,.2f}\\n{:+10.2f}'.format(10240.473, -3210.9521))"
   ]
  },
  {
   "cell_type": "markdown",
   "id": "e01a651d-d040-4f57-8d3e-7b634471b922",
   "metadata": {},
   "source": [
    "8.3 Concatenating and Repeating Strings"
   ]
  },
  {
   "cell_type": "code",
   "execution_count": 38,
   "id": "696ca300-743a-4ddb-ba3f-36892d70478a",
   "metadata": {},
   "outputs": [],
   "source": [
    "# + to concatenate, * to repeat strings\n",
    "s1 = 'happy'"
   ]
  },
  {
   "cell_type": "code",
   "execution_count": 39,
   "id": "c4cf49e3-6731-4c37-84af-f72e441dd25f",
   "metadata": {},
   "outputs": [],
   "source": [
    "s2 = 'birthday'"
   ]
  },
  {
   "cell_type": "code",
   "execution_count": 40,
   "id": "428cf683-6cc8-42aa-8056-4b7152aab8d5",
   "metadata": {},
   "outputs": [],
   "source": [
    "s1 += ' ' + s2"
   ]
  },
  {
   "cell_type": "code",
   "execution_count": 41,
   "id": "1ca6187a-20ae-4215-a7ae-77ddeeecc4a8",
   "metadata": {},
   "outputs": [
    {
     "data": {
      "text/plain": [
       "'happy birthday'"
      ]
     },
     "execution_count": 41,
     "metadata": {},
     "output_type": "execute_result"
    }
   ],
   "source": [
    "s1"
   ]
  },
  {
   "cell_type": "code",
   "execution_count": 42,
   "id": "dfc3f350-9bdd-4b0a-928d-0c57686d1883",
   "metadata": {},
   "outputs": [],
   "source": [
    "symbol = '>'"
   ]
  },
  {
   "cell_type": "code",
   "execution_count": 44,
   "id": "1d4889f4-5149-46c7-a002-4b2c95c1c7a3",
   "metadata": {},
   "outputs": [],
   "source": [
    "symbol *= 5"
   ]
  },
  {
   "cell_type": "code",
   "execution_count": 45,
   "id": "13333f6a-c6ee-4900-9555-aaf2d8765873",
   "metadata": {},
   "outputs": [
    {
     "data": {
      "text/plain": [
       "'>>>>>'"
      ]
     },
     "execution_count": 45,
     "metadata": {},
     "output_type": "execute_result"
    }
   ],
   "source": [
    "symbol"
   ]
  },
  {
   "cell_type": "markdown",
   "id": "b56f93f1-4a5c-455c-962a-d58b649af4ca",
   "metadata": {},
   "source": [
    "8.3 Self Check 1"
   ]
  },
  {
   "cell_type": "code",
   "execution_count": 46,
   "id": "a366b053-8d98-4ec3-bd2f-754d156c8c83",
   "metadata": {},
   "outputs": [],
   "source": [
    "name = 'Zach'"
   ]
  },
  {
   "cell_type": "code",
   "execution_count": 48,
   "id": "3d85101c-8783-4a29-a246-8548f834346b",
   "metadata": {},
   "outputs": [],
   "source": [
    "name += ' Fuller'"
   ]
  },
  {
   "cell_type": "code",
   "execution_count": 49,
   "id": "38a8f6dd-bbe9-4f3c-a8ca-63735aa6315b",
   "metadata": {},
   "outputs": [],
   "source": [
    "bar = '*'"
   ]
  },
  {
   "cell_type": "code",
   "execution_count": 50,
   "id": "91f3d63c-1f0e-46ca-a42e-c6ffdf289f74",
   "metadata": {},
   "outputs": [],
   "source": [
    "bar *= len(name)"
   ]
  },
  {
   "cell_type": "code",
   "execution_count": 51,
   "id": "4db44ea3-5c5d-4856-97f3-5b2cae593ccb",
   "metadata": {},
   "outputs": [
    {
     "name": "stdout",
     "output_type": "stream",
     "text": [
      "***********\n",
      "Zach Fuller\n",
      "***********\n"
     ]
    }
   ],
   "source": [
    "print(f'{bar}\\n{name}\\n{bar}')"
   ]
  },
  {
   "cell_type": "markdown",
   "id": "3cb89bd7-fc0b-416f-9752-df10aabcdc35",
   "metadata": {},
   "source": [
    "8.4 Stripping WHitespace from Strings"
   ]
  },
  {
   "cell_type": "code",
   "execution_count": 52,
   "id": "8f55d543-1fdf-45e1-acdf-7a1f58e45405",
   "metadata": {},
   "outputs": [],
   "source": [
    "#removing leading and trailing whitespace\n",
    "sentence = '\\t  \\n  This is a test string. \\t\\t \\n'"
   ]
  },
  {
   "cell_type": "code",
   "execution_count": 53,
   "id": "25542b3a-3ca3-4e21-a938-f4944b9dd90c",
   "metadata": {},
   "outputs": [
    {
     "data": {
      "text/plain": [
       "'This is a test string.'"
      ]
     },
     "execution_count": 53,
     "metadata": {},
     "output_type": "execute_result"
    }
   ],
   "source": [
    "sentence.strip()"
   ]
  },
  {
   "cell_type": "code",
   "execution_count": 54,
   "id": "b5de6d6f-b8b3-4d96-8254-cf83201d6528",
   "metadata": {},
   "outputs": [
    {
     "data": {
      "text/plain": [
       "'This is a test string. \\t\\t \\n'"
      ]
     },
     "execution_count": 54,
     "metadata": {},
     "output_type": "execute_result"
    }
   ],
   "source": [
    "#removing only leading white space with lstrip\n",
    "sentence.lstrip()"
   ]
  },
  {
   "cell_type": "code",
   "execution_count": 55,
   "id": "9d6a2c7f-6faa-4e19-b7c9-0f6d97c53907",
   "metadata": {},
   "outputs": [
    {
     "data": {
      "text/plain": [
       "'\\t  \\n  This is a test string.'"
      ]
     },
     "execution_count": 55,
     "metadata": {},
     "output_type": "execute_result"
    }
   ],
   "source": [
    "#remove only trailing white space with rstrip\n",
    "sentence.rstrip()"
   ]
  },
  {
   "cell_type": "markdown",
   "id": "ba24efff-1f00-4d30-ac1c-476fc0d86050",
   "metadata": {},
   "source": [
    "8.4 Self Check 1"
   ]
  },
  {
   "cell_type": "code",
   "execution_count": 56,
   "id": "92f29b0e-2897-48f6-b49c-c397c0522ed9",
   "metadata": {},
   "outputs": [],
   "source": [
    "name = '     Margo Magenta     '"
   ]
  },
  {
   "cell_type": "code",
   "execution_count": 57,
   "id": "c89a6ef0-bf8e-4156-bbcf-e464a6df34dc",
   "metadata": {},
   "outputs": [
    {
     "data": {
      "text/plain": [
       "'Margo Magenta'"
      ]
     },
     "execution_count": 57,
     "metadata": {},
     "output_type": "execute_result"
    }
   ],
   "source": [
    "name.strip()"
   ]
  },
  {
   "cell_type": "code",
   "execution_count": 58,
   "id": "0792349c-ed66-473c-b2c1-de247a9fee02",
   "metadata": {},
   "outputs": [
    {
     "data": {
      "text/plain": [
       "'Margo Magenta     '"
      ]
     },
     "execution_count": 58,
     "metadata": {},
     "output_type": "execute_result"
    }
   ],
   "source": [
    "name.lstrip()"
   ]
  },
  {
   "cell_type": "code",
   "execution_count": 59,
   "id": "0e726758-d5da-43d2-ac9a-402eb2113760",
   "metadata": {},
   "outputs": [
    {
     "data": {
      "text/plain": [
       "'     Margo Magenta'"
      ]
     },
     "execution_count": 59,
     "metadata": {},
     "output_type": "execute_result"
    }
   ],
   "source": [
    "name.rstrip()"
   ]
  },
  {
   "cell_type": "markdown",
   "id": "cd08c259-78d8-4f72-bdb7-a3ea0773a5d5",
   "metadata": {},
   "source": [
    "8.5 Changing Character Case"
   ]
  },
  {
   "cell_type": "code",
   "execution_count": 60,
   "id": "c8fd5c58-76be-43b9-8f79-4b1c7904ceab",
   "metadata": {},
   "outputs": [
    {
     "data": {
      "text/plain": [
       "'Happy birthday'"
      ]
     },
     "execution_count": 60,
     "metadata": {},
     "output_type": "execute_result"
    }
   ],
   "source": [
    "#method capitalize to capitalize only first letter\n",
    "'happy birthday'.capitalize()"
   ]
  },
  {
   "cell_type": "code",
   "execution_count": 61,
   "id": "4154b365-e294-46d8-877d-e0af475a958e",
   "metadata": {},
   "outputs": [
    {
     "data": {
      "text/plain": [
       "'Strings: A Deeper Look'"
      ]
     },
     "execution_count": 61,
     "metadata": {},
     "output_type": "execute_result"
    }
   ],
   "source": [
    "#method title to cap. every word in a string\n",
    "'strings: a deeper look'.title()"
   ]
  },
  {
   "cell_type": "markdown",
   "id": "17e7b649-e515-4467-8e05-9138e9c390c1",
   "metadata": {},
   "source": [
    "8.5 Self Check 1"
   ]
  },
  {
   "cell_type": "code",
   "execution_count": 63,
   "id": "c1bd2f2f-8132-42b8-890f-f1d289c994f8",
   "metadata": {},
   "outputs": [],
   "source": [
    "test_string = 'happy new year'"
   ]
  },
  {
   "cell_type": "code",
   "execution_count": 64,
   "id": "96396c9e-5a26-4fa4-834c-89e116a6c0e9",
   "metadata": {},
   "outputs": [
    {
     "data": {
      "text/plain": [
       "'Happy new year'"
      ]
     },
     "execution_count": 64,
     "metadata": {},
     "output_type": "execute_result"
    }
   ],
   "source": [
    "test_string.capitalize()"
   ]
  },
  {
   "cell_type": "code",
   "execution_count": 65,
   "id": "a865e27d-ce76-44e2-b6b1-877b76b23332",
   "metadata": {},
   "outputs": [
    {
     "data": {
      "text/plain": [
       "'Happy New Year'"
      ]
     },
     "execution_count": 65,
     "metadata": {},
     "output_type": "execute_result"
    }
   ],
   "source": [
    "test_string.title()"
   ]
  },
  {
   "cell_type": "markdown",
   "id": "055c74d6-bd31-4ac2-b335-a20339770458",
   "metadata": {},
   "source": [
    "8.6 Comparison OPerator for Strings"
   ]
  },
  {
   "cell_type": "code",
   "execution_count": 66,
   "id": "f687231c-6e50-4364-91ca-3f9050963ec9",
   "metadata": {},
   "outputs": [
    {
     "name": "stdout",
     "output_type": "stream",
     "text": [
      "A: 65; a: 97\n"
     ]
    }
   ],
   "source": [
    "print(f'A: {ord(\"A\")}; a: {ord(\"a\")}')"
   ]
  },
  {
   "cell_type": "code",
   "execution_count": 67,
   "id": "6d0c5919-5aa3-493b-832f-bd997caf829e",
   "metadata": {},
   "outputs": [
    {
     "data": {
      "text/plain": [
       "False"
      ]
     },
     "execution_count": 67,
     "metadata": {},
     "output_type": "execute_result"
    }
   ],
   "source": [
    "'Orange' == 'orange'"
   ]
  },
  {
   "cell_type": "code",
   "execution_count": 69,
   "id": "aec14568-60f6-4bf5-b9d9-9861ee4c33f5",
   "metadata": {},
   "outputs": [
    {
     "data": {
      "text/plain": [
       "True"
      ]
     },
     "execution_count": 69,
     "metadata": {},
     "output_type": "execute_result"
    }
   ],
   "source": [
    "'Orange' != 'orange'"
   ]
  },
  {
   "cell_type": "code",
   "execution_count": 70,
   "id": "96b67a79-1f1e-4027-bd24-9c89326c2815",
   "metadata": {},
   "outputs": [
    {
     "data": {
      "text/plain": [
       "True"
      ]
     },
     "execution_count": 70,
     "metadata": {},
     "output_type": "execute_result"
    }
   ],
   "source": [
    "'Orange' < 'orange'"
   ]
  },
  {
   "cell_type": "code",
   "execution_count": 71,
   "id": "5257f8ab-9b1f-4c8f-b7e8-d69736fb4b56",
   "metadata": {},
   "outputs": [
    {
     "data": {
      "text/plain": [
       "True"
      ]
     },
     "execution_count": 71,
     "metadata": {},
     "output_type": "execute_result"
    }
   ],
   "source": [
    "'Orange' <= 'orange'"
   ]
  },
  {
   "cell_type": "code",
   "execution_count": 72,
   "id": "b8129e63-44af-45b1-8146-87e680e4b098",
   "metadata": {},
   "outputs": [
    {
     "data": {
      "text/plain": [
       "False"
      ]
     },
     "execution_count": 72,
     "metadata": {},
     "output_type": "execute_result"
    }
   ],
   "source": [
    "'Orange' > 'orange'"
   ]
  },
  {
   "cell_type": "code",
   "execution_count": 73,
   "id": "2d1d675b-78b6-497c-bd56-a5b74ab9e00a",
   "metadata": {},
   "outputs": [
    {
     "data": {
      "text/plain": [
       "False"
      ]
     },
     "execution_count": 73,
     "metadata": {},
     "output_type": "execute_result"
    }
   ],
   "source": [
    "'Orange' >= 'orange'"
   ]
  },
  {
   "cell_type": "markdown",
   "id": "2fef1786-c8fe-4aaf-8e7c-14f8326e25d8",
   "metadata": {},
   "source": [
    "8.7 Searching for Substrings"
   ]
  },
  {
   "cell_type": "code",
   "execution_count": 74,
   "id": "423516ab-fa26-4f17-8d21-553911cdcd1f",
   "metadata": {},
   "outputs": [],
   "source": [
    "sentence = 'to be or not to be that is the question'"
   ]
  },
  {
   "cell_type": "code",
   "execution_count": 75,
   "id": "c7a1c224-e6a5-44a7-8abc-301dfc18e3d0",
   "metadata": {},
   "outputs": [
    {
     "data": {
      "text/plain": [
       "2"
      ]
     },
     "execution_count": 75,
     "metadata": {},
     "output_type": "execute_result"
    }
   ],
   "source": [
    "sentence.count('to')"
   ]
  },
  {
   "cell_type": "code",
   "execution_count": 76,
   "id": "9479ca1e-bced-455d-a254-9f9ae69ea8ab",
   "metadata": {},
   "outputs": [
    {
     "data": {
      "text/plain": [
       "1"
      ]
     },
     "execution_count": 76,
     "metadata": {},
     "output_type": "execute_result"
    }
   ],
   "source": [
    "#specifying a start_index as the second argument searches only the slice string[start_index:]\n",
    "sentence.count('to', 12)"
   ]
  },
  {
   "cell_type": "code",
   "execution_count": 77,
   "id": "bc3aea9a-adc4-446a-9633-8a3bf11c8c5d",
   "metadata": {},
   "outputs": [
    {
     "data": {
      "text/plain": [
       "1"
      ]
     },
     "execution_count": 77,
     "metadata": {},
     "output_type": "execute_result"
    }
   ],
   "source": [
    "#specifying end index as third argument restricts search up to but not including the end index\n",
    "sentence.count('that', 12, 25)"
   ]
  },
  {
   "cell_type": "code",
   "execution_count": 78,
   "id": "acbcc383-eef5-4b88-9977-03f17dfa5abe",
   "metadata": {},
   "outputs": [
    {
     "data": {
      "text/plain": [
       "3"
      ]
     },
     "execution_count": 78,
     "metadata": {},
     "output_type": "execute_result"
    }
   ],
   "source": [
    "#method index searches for a substring and returns the first index at which it is found\n",
    "sentence.index('be')"
   ]
  },
  {
   "cell_type": "code",
   "execution_count": 79,
   "id": "8a00ca8b-e1cd-4901-88b3-5b79ac39c2e1",
   "metadata": {},
   "outputs": [
    {
     "data": {
      "text/plain": [
       "16"
      ]
     },
     "execution_count": 79,
     "metadata": {},
     "output_type": "execute_result"
    }
   ],
   "source": [
    "#method rindex is similar to index, but searches from end of string and returns last index at which substring is found\n",
    "sentence.rindex('be')"
   ]
  },
  {
   "cell_type": "code",
   "execution_count": 80,
   "id": "fbb85c0b-7792-4363-9b59-98327a5e9e68",
   "metadata": {},
   "outputs": [
    {
     "data": {
      "text/plain": [
       "True"
      ]
     },
     "execution_count": 80,
     "metadata": {},
     "output_type": "execute_result"
    }
   ],
   "source": [
    "# use in or not in to see if string contains substring\n",
    "'that' in sentence"
   ]
  },
  {
   "cell_type": "code",
   "execution_count": 81,
   "id": "2f5ee775-5932-4a61-8cdb-4c4361ad8a38",
   "metadata": {},
   "outputs": [
    {
     "data": {
      "text/plain": [
       "False"
      ]
     },
     "execution_count": 81,
     "metadata": {},
     "output_type": "execute_result"
    }
   ],
   "source": [
    "'THAT' in sentence"
   ]
  },
  {
   "cell_type": "code",
   "execution_count": 82,
   "id": "c75d1bbc-adf6-44dc-8f4d-1265af81c83a",
   "metadata": {},
   "outputs": [
    {
     "data": {
      "text/plain": [
       "True"
      ]
     },
     "execution_count": 82,
     "metadata": {},
     "output_type": "execute_result"
    }
   ],
   "source": [
    "'THAT' not in sentence"
   ]
  },
  {
   "cell_type": "code",
   "execution_count": 83,
   "id": "6de1a51c-f0e2-445e-bd79-7c411d9e51a5",
   "metadata": {},
   "outputs": [
    {
     "data": {
      "text/plain": [
       "True"
      ]
     },
     "execution_count": 83,
     "metadata": {},
     "output_type": "execute_result"
    }
   ],
   "source": [
    "#startswith and endswith return True if string starts or ends with the substring\n",
    "sentence.startswith('to')"
   ]
  },
  {
   "cell_type": "code",
   "execution_count": 84,
   "id": "bec2d64a-1381-40ed-8be0-eaa6b6895d68",
   "metadata": {},
   "outputs": [
    {
     "data": {
      "text/plain": [
       "False"
      ]
     },
     "execution_count": 84,
     "metadata": {},
     "output_type": "execute_result"
    }
   ],
   "source": [
    "sentence.startswith('be')"
   ]
  },
  {
   "cell_type": "code",
   "execution_count": 85,
   "id": "b83c47e9-5347-4c2a-89b0-6c067cf7510b",
   "metadata": {},
   "outputs": [
    {
     "data": {
      "text/plain": [
       "True"
      ]
     },
     "execution_count": 85,
     "metadata": {},
     "output_type": "execute_result"
    }
   ],
   "source": [
    "sentence.endswith('question')"
   ]
  },
  {
   "cell_type": "code",
   "execution_count": 86,
   "id": "049c27f0-fa81-4c98-8997-7e007fed78da",
   "metadata": {},
   "outputs": [
    {
     "data": {
      "text/plain": [
       "False"
      ]
     },
     "execution_count": 86,
     "metadata": {},
     "output_type": "execute_result"
    }
   ],
   "source": [
    "sentence.endswith('quest')"
   ]
  },
  {
   "cell_type": "markdown",
   "id": "314e6ad6-83c0-48a0-a4f7-b5a2157b87d9",
   "metadata": {},
   "source": [
    "8.7 Self Check 3"
   ]
  },
  {
   "cell_type": "code",
   "execution_count": 87,
   "id": "84002c98-f759-4d4b-9227-e5683836b22f",
   "metadata": {},
   "outputs": [
    {
     "name": "stdout",
     "output_type": "stream",
     "text": [
      "to to that the "
     ]
    }
   ],
   "source": [
    "for word in 'to be or not to be that is the question'.split():\n",
    "    if word.startswith('t'):\n",
    "        print(word, end=' ')"
   ]
  },
  {
   "cell_type": "markdown",
   "id": "fc8c030e-eb23-4ea4-a81d-0fd2526d8762",
   "metadata": {},
   "source": [
    "8.8 Replacing Substrings"
   ]
  },
  {
   "cell_type": "code",
   "execution_count": 88,
   "id": "b200e67f-4c3c-444d-abf9-5e6667619995",
   "metadata": {},
   "outputs": [],
   "source": [
    "#method replace looks for substring in first argument, replaces it with substring in second argument\n",
    "values = '1\\t2\\t3\\t4\\t5'"
   ]
  },
  {
   "cell_type": "code",
   "execution_count": 89,
   "id": "6e3fee9d-f64b-49d3-9f3b-78273c6f643b",
   "metadata": {},
   "outputs": [
    {
     "data": {
      "text/plain": [
       "'1,2,3,4,5'"
      ]
     },
     "execution_count": 89,
     "metadata": {},
     "output_type": "execute_result"
    }
   ],
   "source": [
    "values.replace('\\t', ',')"
   ]
  },
  {
   "cell_type": "code",
   "execution_count": 90,
   "id": "69bb531c-2bf5-4c95-ac0f-9208c197cc8e",
   "metadata": {},
   "outputs": [
    {
     "data": {
      "text/plain": [
       "'1 --> 2 --> 3 --> 4 --> 5'"
      ]
     },
     "execution_count": 90,
     "metadata": {},
     "output_type": "execute_result"
    }
   ],
   "source": [
    "'1 2 3 4 5'.replace(' ', ' --> ')"
   ]
  },
  {
   "cell_type": "markdown",
   "id": "38ca3e41-b9e9-4b6f-b533-41c61fa6d19b",
   "metadata": {},
   "source": [
    "8.9 Splitting and Joining Strings"
   ]
  },
  {
   "cell_type": "code",
   "execution_count": 92,
   "id": "f26fcf7b-cd56-4d88-bca0-3259e7e90b50",
   "metadata": {},
   "outputs": [],
   "source": [
    "#to tokenize a string at a custom delimiter, specify the delimiter string (such as ', ') that split uses to tokenize the string\n",
    "letters = 'A, B, C, D'"
   ]
  },
  {
   "cell_type": "code",
   "execution_count": 93,
   "id": "b8412a1e-2c16-4b0a-9e1d-3ae025ddd633",
   "metadata": {},
   "outputs": [
    {
     "data": {
      "text/plain": [
       "['A', 'B', 'C', 'D']"
      ]
     },
     "execution_count": 93,
     "metadata": {},
     "output_type": "execute_result"
    }
   ],
   "source": [
    "letters.split(', ')"
   ]
  },
  {
   "cell_type": "code",
   "execution_count": 94,
   "id": "d5116ab7-4551-4a79-adfb-b01f15e4bf78",
   "metadata": {},
   "outputs": [
    {
     "data": {
      "text/plain": [
       "['A', 'B', 'C, D']"
      ]
     },
     "execution_count": 94,
     "metadata": {},
     "output_type": "execute_result"
    }
   ],
   "source": [
    "#if you provide an integer as the 2nd argument, it specifies the max number of splits\n",
    "#the last token is the remainder of the string after the max number of splits\n",
    "letters.split(', ', 2)"
   ]
  },
  {
   "cell_type": "code",
   "execution_count": 95,
   "id": "bb9b01c9-1a51-4c1b-af56-472c92d89b80",
   "metadata": {},
   "outputs": [],
   "source": [
    "#method join concatenates string in its arguments; call it on separator between concatenated items\n",
    "letters_list = ['A', 'B', 'C', 'D']"
   ]
  },
  {
   "cell_type": "code",
   "execution_count": 96,
   "id": "9a35a261-bf92-4ff6-b2b9-eddf88c02c15",
   "metadata": {},
   "outputs": [
    {
     "data": {
      "text/plain": [
       "'A,B,C,D'"
      ]
     },
     "execution_count": 96,
     "metadata": {},
     "output_type": "execute_result"
    }
   ],
   "source": [
    "','.join(letters_list)"
   ]
  },
  {
   "cell_type": "code",
   "execution_count": 97,
   "id": "698b1822-a504-4ff6-9b56-dbf2d210a541",
   "metadata": {},
   "outputs": [
    {
     "data": {
      "text/plain": [
       "'0,1,2,3,4,5,6,7,8,9'"
      ]
     },
     "execution_count": 97,
     "metadata": {},
     "output_type": "execute_result"
    }
   ],
   "source": [
    "','.join([str(i) for i in range(10)])"
   ]
  },
  {
   "cell_type": "code",
   "execution_count": 99,
   "id": "4e1244fc-0ef4-47c1-8038-59a6ac069c9a",
   "metadata": {},
   "outputs": [
    {
     "data": {
      "text/plain": [
       "('Amanda', ': ', '89, 97, 92')"
      ]
     },
     "execution_count": 99,
     "metadata": {},
     "output_type": "execute_result"
    }
   ],
   "source": [
    "#partition splits into tuple of 3 strings based on method's separator argument\n",
    "'Amanda: 89, 97, 92'.partition(': ')"
   ]
  },
  {
   "cell_type": "code",
   "execution_count": 100,
   "id": "dbc2989f-3171-40a1-a144-ca419ead4345",
   "metadata": {},
   "outputs": [],
   "source": [
    "#rpartition to split from the end of the string instead\n",
    "url = 'http://www.deitel.com/books/PyCDS/table_of_contents.html'"
   ]
  },
  {
   "cell_type": "code",
   "execution_count": 101,
   "id": "dd91f482-9055-40aa-a93f-331e55d2956b",
   "metadata": {},
   "outputs": [],
   "source": [
    "rest_of_url, separator, document = url.rpartition('/')"
   ]
  },
  {
   "cell_type": "code",
   "execution_count": 102,
   "id": "54cb5c5f-5737-4e14-a597-69b41ac63e84",
   "metadata": {},
   "outputs": [
    {
     "data": {
      "text/plain": [
       "'table_of_contents.html'"
      ]
     },
     "execution_count": 102,
     "metadata": {},
     "output_type": "execute_result"
    }
   ],
   "source": [
    "document"
   ]
  },
  {
   "cell_type": "code",
   "execution_count": 103,
   "id": "711e4523-8f9b-484b-93cb-055879ff6819",
   "metadata": {},
   "outputs": [
    {
     "data": {
      "text/plain": [
       "'http://www.deitel.com/books/PyCDS'"
      ]
     },
     "execution_count": 103,
     "metadata": {},
     "output_type": "execute_result"
    }
   ],
   "source": [
    "rest_of_url"
   ]
  },
  {
   "cell_type": "code",
   "execution_count": 104,
   "id": "bc3e0973-7ed9-416f-94c5-431c3e71f191",
   "metadata": {},
   "outputs": [],
   "source": [
    "lines = \"\"\"This is line 1\n",
    "This is line2\n",
    "This is line3\"\"\""
   ]
  },
  {
   "cell_type": "code",
   "execution_count": 105,
   "id": "7a7777b7-2a92-4ae9-a267-d5d1343175c3",
   "metadata": {},
   "outputs": [
    {
     "data": {
      "text/plain": [
       "'This is line 1\\nThis is line2\\nThis is line3'"
      ]
     },
     "execution_count": 105,
     "metadata": {},
     "output_type": "execute_result"
    }
   ],
   "source": [
    "lines"
   ]
  },
  {
   "cell_type": "code",
   "execution_count": 106,
   "id": "36814015-1e03-4155-91b1-df822d2de4eb",
   "metadata": {},
   "outputs": [
    {
     "data": {
      "text/plain": [
       "['This is line 1', 'This is line2', 'This is line3']"
      ]
     },
     "execution_count": 106,
     "metadata": {},
     "output_type": "execute_result"
    }
   ],
   "source": [
    "lines.splitlines()"
   ]
  },
  {
   "cell_type": "code",
   "execution_count": 107,
   "id": "1bec0e2b-5492-44c5-9124-8830fb4118b2",
   "metadata": {},
   "outputs": [
    {
     "data": {
      "text/plain": [
       "['This is line 1\\n', 'This is line2\\n', 'This is line3']"
      ]
     },
     "execution_count": 107,
     "metadata": {},
     "output_type": "execute_result"
    }
   ],
   "source": [
    "lines.splitlines(True)"
   ]
  },
  {
   "cell_type": "markdown",
   "id": "a24646b6-e435-4f07-8a07-1aee5f78c4ae",
   "metadata": {},
   "source": [
    "8.9 Self Check 2"
   ]
  },
  {
   "cell_type": "code",
   "execution_count": 109,
   "id": "3d428017-5efa-4ddf-9626-f0b880af95f1",
   "metadata": {},
   "outputs": [
    {
     "data": {
      "text/plain": [
       "'WHite, Pamela'"
      ]
     },
     "execution_count": 109,
     "metadata": {},
     "output_type": "execute_result"
    }
   ],
   "source": [
    "', '.join(reversed('Pamela WHite'.split()))"
   ]
  },
  {
   "cell_type": "markdown",
   "id": "e30249a7-5b43-4e56-859a-fa8593b4f9f8",
   "metadata": {},
   "source": [
    "8.9 Self Check 3"
   ]
  },
  {
   "cell_type": "code",
   "execution_count": 111,
   "id": "c29ea53e-a0ca-451b-b684-3b192531a3a4",
   "metadata": {},
   "outputs": [],
   "source": [
    "url = 'http://www.deitel.com/books/PyCDS/table_of_contents.html'"
   ]
  },
  {
   "cell_type": "code",
   "execution_count": 114,
   "id": "9dff670c-f98f-4a34-a35a-ace49f503d0c",
   "metadata": {},
   "outputs": [],
   "source": [
    "protocol, separator, rest_of_url = url.partition('://')"
   ]
  },
  {
   "cell_type": "code",
   "execution_count": 115,
   "id": "e86bf804-96dd-4c3b-86e3-ea24005f5b59",
   "metadata": {},
   "outputs": [],
   "source": [
    "host, separator, document_with_path = rest_of_url.partition('/')"
   ]
  },
  {
   "cell_type": "code",
   "execution_count": 116,
   "id": "a68dab75-2a33-47d9-950f-f3e0a554e67c",
   "metadata": {},
   "outputs": [
    {
     "data": {
      "text/plain": [
       "'www.deitel.com'"
      ]
     },
     "execution_count": 116,
     "metadata": {},
     "output_type": "execute_result"
    }
   ],
   "source": [
    "host"
   ]
  },
  {
   "cell_type": "code",
   "execution_count": 117,
   "id": "49d6ea6e-e101-487d-bc3f-e35097c39b35",
   "metadata": {},
   "outputs": [],
   "source": [
    "path, separator, document = document_with_path.rpartition('/')"
   ]
  },
  {
   "cell_type": "code",
   "execution_count": 118,
   "id": "10453262-d0dc-40ac-9a1d-e54b2c801cc2",
   "metadata": {},
   "outputs": [
    {
     "data": {
      "text/plain": [
       "'books/PyCDS'"
      ]
     },
     "execution_count": 118,
     "metadata": {},
     "output_type": "execute_result"
    }
   ],
   "source": [
    "path"
   ]
  },
  {
   "cell_type": "markdown",
   "id": "4ab410fa-d944-4e0c-9b49-70de25d64d86",
   "metadata": {},
   "source": [
    "8.10 Characters and Character-Testing Methods"
   ]
  },
  {
   "cell_type": "code",
   "execution_count": 119,
   "id": "f7a01744-419c-40ea-a4e0-e90885ab587d",
   "metadata": {},
   "outputs": [],
   "source": [
    "#isdigit returns True if the string contains only digit characaters(0-9)"
   ]
  },
  {
   "cell_type": "code",
   "execution_count": 120,
   "id": "37fccaba-5677-498f-b567-772f55dd726c",
   "metadata": {},
   "outputs": [
    {
     "data": {
      "text/plain": [
       "False"
      ]
     },
     "execution_count": 120,
     "metadata": {},
     "output_type": "execute_result"
    }
   ],
   "source": [
    "'-27'.isdigit()"
   ]
  },
  {
   "cell_type": "code",
   "execution_count": 121,
   "id": "141f5100-9779-401f-867b-5ad3beae205f",
   "metadata": {},
   "outputs": [
    {
     "data": {
      "text/plain": [
       "True"
      ]
     },
     "execution_count": 121,
     "metadata": {},
     "output_type": "execute_result"
    }
   ],
   "source": [
    "'27'.isdigit()"
   ]
  },
  {
   "cell_type": "code",
   "execution_count": 122,
   "id": "a2c15dee-9faf-419b-b6af-874742b22dec",
   "metadata": {},
   "outputs": [],
   "source": [
    "#isalnum returns True if string is alphanumeric (contains only digits and letters)"
   ]
  },
  {
   "cell_type": "code",
   "execution_count": 123,
   "id": "80a83acd-c35d-4b38-899a-545b5106b580",
   "metadata": {},
   "outputs": [
    {
     "data": {
      "text/plain": [
       "True"
      ]
     },
     "execution_count": 123,
     "metadata": {},
     "output_type": "execute_result"
    }
   ],
   "source": [
    "'A9876'.isalnum()"
   ]
  },
  {
   "cell_type": "code",
   "execution_count": 124,
   "id": "168867aa-1c2b-4f56-a730-12489ee27990",
   "metadata": {},
   "outputs": [
    {
     "data": {
      "text/plain": [
       "False"
      ]
     },
     "execution_count": 124,
     "metadata": {},
     "output_type": "execute_result"
    }
   ],
   "source": [
    "'123 Main Street'.isalnum()"
   ]
  },
  {
   "cell_type": "markdown",
   "id": "e7da13f2-535d-473b-a73e-2aeab90bc4b6",
   "metadata": {},
   "source": [
    "8.11 Raw Strings"
   ]
  },
  {
   "cell_type": "code",
   "execution_count": 125,
   "id": "882aee5f-3e70-4b97-9668-3caaaa85a049",
   "metadata": {},
   "outputs": [],
   "source": [
    "#recall that \\ is used as an escape sequence, like \\n for newline or \\t for tab\n",
    "#if you want to include \\ in your string, instead use \\\\\n",
    "#can cause some confusion as windows uses something like C:\\\\asdfasd\\asdf\n",
    "#may write something like:\n",
    "file_path = 'C:\\\\MyFolder\\\\MySubFolder\\\\MyFIle.txt'"
   ]
  },
  {
   "cell_type": "code",
   "execution_count": 126,
   "id": "2d65d01e-3287-4c7d-99b3-2716998ff828",
   "metadata": {},
   "outputs": [],
   "source": [
    "#for such cases as above, r treats each backslash as a regular character rather than beginning of an escape sequence\n",
    "file_path = r'C:\\MyFolder\\MySubFolder\\MyFile.txt'"
   ]
  },
  {
   "cell_type": "code",
   "execution_count": 127,
   "id": "fdf6951e-2bf8-4fdc-9b3f-d67d6b6d7a15",
   "metadata": {},
   "outputs": [
    {
     "data": {
      "text/plain": [
       "'C:\\\\MyFolder\\\\MySubFolder\\\\MyFile.txt'"
      ]
     },
     "execution_count": 127,
     "metadata": {},
     "output_type": "execute_result"
    }
   ],
   "source": [
    "file_path"
   ]
  },
  {
   "cell_type": "markdown",
   "id": "ff48429c-15e2-458f-add9-51d890fd886b",
   "metadata": {},
   "source": [
    "8.12 Intro to Regular Expressions"
   ]
  },
  {
   "cell_type": "markdown",
   "id": "50dd35cd-66b3-4deb-b500-46c0d03d991f",
   "metadata": {},
   "source": [
    "8.12.1 re Module and Function fullmatch"
   ]
  },
  {
   "cell_type": "code",
   "execution_count": 128,
   "id": "599d8b7d-119b-4cdf-add2-c669e9c7b9e1",
   "metadata": {},
   "outputs": [],
   "source": [
    "import re"
   ]
  },
  {
   "cell_type": "code",
   "execution_count": 129,
   "id": "dae5d7dd-16db-4013-93be-d79cc7565905",
   "metadata": {},
   "outputs": [],
   "source": [
    "#fullmatch - check whether the entire string in 2nd argument matches teh pattern in its 1st argument"
   ]
  },
  {
   "cell_type": "code",
   "execution_count": 130,
   "id": "3e485f60-af95-4bd7-85b7-f5289881dfa5",
   "metadata": {},
   "outputs": [],
   "source": [
    "pattern = '02215'"
   ]
  },
  {
   "cell_type": "code",
   "execution_count": 131,
   "id": "4175b831-ab07-4a69-9d4f-f7790ca465cb",
   "metadata": {},
   "outputs": [
    {
     "data": {
      "text/plain": [
       "'Match'"
      ]
     },
     "execution_count": 131,
     "metadata": {},
     "output_type": "execute_result"
    }
   ],
   "source": [
    "'Match' if re.fullmatch(pattern, '02215') else 'No match'"
   ]
  },
  {
   "cell_type": "code",
   "execution_count": 132,
   "id": "33eef1bf-e52b-4dc0-a0f4-5ea55ca9cc97",
   "metadata": {},
   "outputs": [
    {
     "data": {
      "text/plain": [
       "'No match'"
      ]
     },
     "execution_count": 132,
     "metadata": {},
     "output_type": "execute_result"
    }
   ],
   "source": [
    "'Match' if re.fullmatch(pattern, '51220') else 'No match'"
   ]
  },
  {
   "cell_type": "code",
   "execution_count": 134,
   "id": "bfeb6fc2-4fb6-43a5-99a0-0f56d3807f0e",
   "metadata": {},
   "outputs": [
    {
     "data": {
      "text/plain": [
       "'Valid'"
      ]
     },
     "execution_count": 134,
     "metadata": {},
     "output_type": "execute_result"
    }
   ],
   "source": [
    "'Valid' if re.fullmatch(r'\\d{5}', '02215') else 'Invalid'"
   ]
  },
  {
   "cell_type": "code",
   "execution_count": 135,
   "id": "5704239d-921d-4da7-92cf-2cea59787869",
   "metadata": {},
   "outputs": [
    {
     "data": {
      "text/plain": [
       "'Invalid'"
      ]
     },
     "execution_count": 135,
     "metadata": {},
     "output_type": "execute_result"
    }
   ],
   "source": [
    "'Valid' if re.fullmatch(r'\\d{5}', '9876') else 'Invalid'"
   ]
  },
  {
   "cell_type": "code",
   "execution_count": 136,
   "id": "f74d856d-b08e-41d4-bcf6-e1a90ede2e4d",
   "metadata": {},
   "outputs": [
    {
     "data": {
      "text/plain": [
       "'Valid'"
      ]
     },
     "execution_count": 136,
     "metadata": {},
     "output_type": "execute_result"
    }
   ],
   "source": [
    "'Valid' if re.fullmatch('[A-Z][a-z]*', 'Wally') else 'Invalid'"
   ]
  },
  {
   "cell_type": "code",
   "execution_count": 138,
   "id": "b3fd2c19-cbcb-4118-9b7d-f61d7edb048f",
   "metadata": {},
   "outputs": [
    {
     "data": {
      "text/plain": [
       "'Invalid'"
      ]
     },
     "execution_count": 138,
     "metadata": {},
     "output_type": "execute_result"
    }
   ],
   "source": [
    "'Valid' if re.fullmatch('[A-Z][a-z]*', 'eva') else 'Invalid'\n",
    "#won't match because * is only after the lowercase characters in the 1st argument"
   ]
  },
  {
   "cell_type": "code",
   "execution_count": 139,
   "id": "4482fe2f-3fbe-4c0c-8697-97caa8c633d3",
   "metadata": {},
   "outputs": [
    {
     "data": {
      "text/plain": [
       "'Match'"
      ]
     },
     "execution_count": 139,
     "metadata": {},
     "output_type": "execute_result"
    }
   ],
   "source": [
    "#when a custom character class start with a caret (^), the class matches any character that's not specified\n",
    "'Match' if re.fullmatch('[^a-z]', 'A') else 'No match'"
   ]
  },
  {
   "cell_type": "code",
   "execution_count": 140,
   "id": "1fde4b0b-9857-42fc-bc2b-e45aeb164c1f",
   "metadata": {},
   "outputs": [
    {
     "data": {
      "text/plain": [
       "'No match'"
      ]
     },
     "execution_count": 140,
     "metadata": {},
     "output_type": "execute_result"
    }
   ],
   "source": [
    "'Match' if re.fullmatch('[^a-z]', 'a') else 'No match'"
   ]
  },
  {
   "cell_type": "code",
   "execution_count": 141,
   "id": "373d0831-7804-4282-91b5-d6ff81855b2b",
   "metadata": {},
   "outputs": [
    {
     "data": {
      "text/plain": [
       "'Match'"
      ]
     },
     "execution_count": 141,
     "metadata": {},
     "output_type": "execute_result"
    }
   ],
   "source": [
    "#metacharacters in a custom character class are treated as literal characters - the characters themselves\n",
    "'Match' if re.fullmatch('[*+$]', '*') else 'No match'"
   ]
  },
  {
   "cell_type": "code",
   "execution_count": 142,
   "id": "c906e9f7-a0d1-4e4b-bd26-f17272ab9055",
   "metadata": {},
   "outputs": [
    {
     "data": {
      "text/plain": [
       "'No match'"
      ]
     },
     "execution_count": 142,
     "metadata": {},
     "output_type": "execute_result"
    }
   ],
   "source": [
    "'Match' if re.fullmatch('[*+$]', '!') else 'No match'"
   ]
  },
  {
   "cell_type": "code",
   "execution_count": 143,
   "id": "ea61b9a8-399d-4a86-b463-1c65f8a8c79d",
   "metadata": {},
   "outputs": [
    {
     "data": {
      "text/plain": [
       "'Valid'"
      ]
     },
     "execution_count": 143,
     "metadata": {},
     "output_type": "execute_result"
    }
   ],
   "source": [
    "# + quantifier matches at least one occurence of a subexpression\n",
    "'Valid' if re.fullmatch('[A-Z][a-z]+', 'Wally') else 'Invalid'"
   ]
  },
  {
   "cell_type": "code",
   "execution_count": 145,
   "id": "c00fc4d9-18cf-482e-a6de-8a88b75a52d6",
   "metadata": {},
   "outputs": [
    {
     "data": {
      "text/plain": [
       "'Invalid'"
      ]
     },
     "execution_count": 145,
     "metadata": {},
     "output_type": "execute_result"
    }
   ],
   "source": [
    "'Valid' if re.fullmatch('[A-Z][a-z]+', 'E') else 'Invalid'"
   ]
  },
  {
   "cell_type": "code",
   "execution_count": 146,
   "id": "04c65836-4d58-48a5-aed1-10000373492b",
   "metadata": {},
   "outputs": [
    {
     "data": {
      "text/plain": [
       "'Match'"
      ]
     },
     "execution_count": 146,
     "metadata": {},
     "output_type": "execute_result"
    }
   ],
   "source": [
    "# ? matches 0 or 1 occurrences of a subexpression\n",
    "'Match' if re.fullmatch('labell?ed', 'labelled') else 'No match'"
   ]
  },
  {
   "cell_type": "code",
   "execution_count": 147,
   "id": "45d0aa8f-d707-4b27-9bcb-902e3bcd7535",
   "metadata": {},
   "outputs": [
    {
     "data": {
      "text/plain": [
       "'Match'"
      ]
     },
     "execution_count": 147,
     "metadata": {},
     "output_type": "execute_result"
    }
   ],
   "source": [
    "'Match' if re.fullmatch('labell?ed', 'labeled') else 'No match'"
   ]
  },
  {
   "cell_type": "code",
   "execution_count": 150,
   "id": "8f1ec414-6317-4dcd-922a-58bdbb083c2c",
   "metadata": {},
   "outputs": [
    {
     "data": {
      "text/plain": [
       "'No match'"
      ]
     },
     "execution_count": 150,
     "metadata": {},
     "output_type": "execute_result"
    }
   ],
   "source": [
    "'Match' if re.fullmatch('labell?ed', 'labellled') else 'No match'"
   ]
  },
  {
   "cell_type": "code",
   "execution_count": 155,
   "id": "73c105af-bf52-404e-b5af-2e5b65c094a2",
   "metadata": {},
   "outputs": [
    {
     "data": {
      "text/plain": [
       "'Match'"
      ]
     },
     "execution_count": 155,
     "metadata": {},
     "output_type": "execute_result"
    }
   ],
   "source": [
    "# can match at least n occurrences of a subexpression with {n,} quantifier\n",
    "#so the following 3 snippets look for strings with at least 3 digits\n",
    "'Match' if re.fullmatch(r'\\d{3,}', '123') else 'No match'"
   ]
  },
  {
   "cell_type": "code",
   "execution_count": 153,
   "id": "e10fd368-1a03-43e3-b7b7-0506ef3fbdd6",
   "metadata": {},
   "outputs": [
    {
     "data": {
      "text/plain": [
       "'Match'"
      ]
     },
     "execution_count": 153,
     "metadata": {},
     "output_type": "execute_result"
    }
   ],
   "source": [
    "'Match' if re.fullmatch(r'\\d{3,}', '1234567890') else 'No match'"
   ]
  },
  {
   "cell_type": "code",
   "execution_count": 154,
   "id": "06952f8b-05b6-4d92-ba68-1525035ed36c",
   "metadata": {},
   "outputs": [
    {
     "data": {
      "text/plain": [
       "'No match'"
      ]
     },
     "execution_count": 154,
     "metadata": {},
     "output_type": "execute_result"
    }
   ],
   "source": [
    "'Match' if re.fullmatch(r'\\d{3,}', '12') else 'No match'"
   ]
  },
  {
   "cell_type": "code",
   "execution_count": 156,
   "id": "cd93fcf2-244a-47e7-9d5f-a25d6988719e",
   "metadata": {},
   "outputs": [
    {
     "data": {
      "text/plain": [
       "'Match'"
      ]
     },
     "execution_count": 156,
     "metadata": {},
     "output_type": "execute_result"
    }
   ],
   "source": [
    "#can match between n and m (inclusive) occurrences of a subexpression with th e{n, m} quantifier\n",
    "#following regular expressions match strings containing 3 to 6 digits\n",
    "'Match' if re.fullmatch(r'\\d{3,6}', '123') else 'No match'"
   ]
  },
  {
   "cell_type": "code",
   "execution_count": 157,
   "id": "8b1acaf7-4095-4165-804c-551bd441b17e",
   "metadata": {},
   "outputs": [
    {
     "data": {
      "text/plain": [
       "'Match'"
      ]
     },
     "execution_count": 157,
     "metadata": {},
     "output_type": "execute_result"
    }
   ],
   "source": [
    "'Match' if re.fullmatch(r'\\d{3,6}', '123456') else 'No match'"
   ]
  },
  {
   "cell_type": "code",
   "execution_count": 158,
   "id": "c1b7f525-f0ea-4891-8734-7ffc00ec56c4",
   "metadata": {},
   "outputs": [
    {
     "data": {
      "text/plain": [
       "'No match'"
      ]
     },
     "execution_count": 158,
     "metadata": {},
     "output_type": "execute_result"
    }
   ],
   "source": [
    "'Match' if re.fullmatch(r'\\d{3,6}', '1234567') else 'No match'"
   ]
  },
  {
   "cell_type": "code",
   "execution_count": 159,
   "id": "e4501b3b-5e2d-4e49-a652-0331ea3d0571",
   "metadata": {},
   "outputs": [
    {
     "data": {
      "text/plain": [
       "'No match'"
      ]
     },
     "execution_count": 159,
     "metadata": {},
     "output_type": "execute_result"
    }
   ],
   "source": [
    "'Match' if re.fullmatch(r'\\d{3,6}', '12') else 'No match'"
   ]
  },
  {
   "cell_type": "markdown",
   "id": "adfe2c0b-7593-438b-8ea5-e16c4051fe83",
   "metadata": {},
   "source": [
    "8.12.1 Self Check 4"
   ]
  },
  {
   "cell_type": "code",
   "execution_count": 160,
   "id": "b91d89da-4723-4268-a66f-bdfd16b67916",
   "metadata": {},
   "outputs": [],
   "source": [
    "street = r'\\d+ [A-Z][a-z]* [A-Z][a-z]*'"
   ]
  },
  {
   "cell_type": "code",
   "execution_count": 161,
   "id": "b5ccf8fa-ad45-4208-9489-d88dd16d0eac",
   "metadata": {},
   "outputs": [
    {
     "data": {
      "text/plain": [
       "'Match'"
      ]
     },
     "execution_count": 161,
     "metadata": {},
     "output_type": "execute_result"
    }
   ],
   "source": [
    "'Match' if re.fullmatch(street, '123 Main Street') else 'No match'"
   ]
  },
  {
   "cell_type": "code",
   "execution_count": 162,
   "id": "2a556fbb-f6f7-445e-869a-1d8fa5a9e83d",
   "metadata": {},
   "outputs": [
    {
     "data": {
      "text/plain": [
       "'No match'"
      ]
     },
     "execution_count": 162,
     "metadata": {},
     "output_type": "execute_result"
    }
   ],
   "source": [
    "'Match' if re.fullmatch(street, 'Main Street') else 'No match'"
   ]
  },
  {
   "cell_type": "markdown",
   "id": "e9b739ce-49cc-472f-9d6d-edf8e16e64b1",
   "metadata": {},
   "source": [
    "8.12.2 Replacing Substrings and SPlitting Strings"
   ]
  },
  {
   "cell_type": "code",
   "execution_count": 163,
   "id": "ffe8f5a0-53ee-4b95-9062-d82141f63a9f",
   "metadata": {},
   "outputs": [
    {
     "data": {
      "text/plain": [
       "'1, 2, 3, 4'"
      ]
     },
     "execution_count": 163,
     "metadata": {},
     "output_type": "execute_result"
    }
   ],
   "source": [
    "#use sub to replace all occurrences of a pattern with the replacement\n",
    "re.sub(r'\\t', ', ', '1\\t2\\t3\\t4')"
   ]
  },
  {
   "cell_type": "code",
   "execution_count": 164,
   "id": "01681838-b895-4a55-9754-661a555f89af",
   "metadata": {},
   "outputs": [
    {
     "data": {
      "text/plain": [
       "'1, 2, 3\\t4'"
      ]
     },
     "execution_count": 164,
     "metadata": {},
     "output_type": "execute_result"
    }
   ],
   "source": [
    "#can use keyword argument count to specify max number of replacements\n",
    "re.sub(r'\\t', ', ', '1\\t2\\t3\\t4', count=2)"
   ]
  },
  {
   "cell_type": "code",
   "execution_count": 166,
   "id": "9d49e114-7fdc-4cf8-a404-0d6203405859",
   "metadata": {},
   "outputs": [
    {
     "data": {
      "text/plain": [
       "['1', '2', '3', '4', '5', '6', '7', '8']"
      ]
     },
     "execution_count": 166,
     "metadata": {},
     "output_type": "execute_result"
    }
   ],
   "source": [
    "#\\s is the white space character class, * indicates 0 or more occurrences of the preceding subexpression\n",
    "re.split(r',\\s*', '1,  2,  3,4,   5,6,7,8')"
   ]
  },
  {
   "cell_type": "code",
   "execution_count": 167,
   "id": "e6cc0a58-3dce-4b10-9029-98aeeb5fd0a8",
   "metadata": {},
   "outputs": [
    {
     "data": {
      "text/plain": [
       "['1', '2', '3', '4,   5,6,7,8']"
      ]
     },
     "execution_count": 167,
     "metadata": {},
     "output_type": "execute_result"
    }
   ],
   "source": [
    "#can use keyword argument maxsplit to specify max number of splits\n",
    "re.split(r',\\s*', '1, 2,   3,4,   5,6,7,8', maxsplit=3)"
   ]
  },
  {
   "cell_type": "markdown",
   "id": "6d0e0abc-9d8b-4366-bbe5-0391a4398b29",
   "metadata": {},
   "source": [
    "8.12.2 Self Check 1"
   ]
  },
  {
   "cell_type": "code",
   "execution_count": 168,
   "id": "39eed8ad-ba83-4fdf-8686-8b2e6929a8a4",
   "metadata": {},
   "outputs": [
    {
     "data": {
      "text/plain": [
       "'A, B, C, D'"
      ]
     },
     "execution_count": 168,
     "metadata": {},
     "output_type": "execute_result"
    }
   ],
   "source": [
    "re.sub(r'\\t+', ', ', 'A\\tB\\tC\\t\\t\\tD')"
   ]
  },
  {
   "cell_type": "markdown",
   "id": "2972c95a-7c74-4c96-8dd5-42001b2151da",
   "metadata": {},
   "source": [
    "8.12.2 Self Check 2"
   ]
  },
  {
   "cell_type": "code",
   "execution_count": 169,
   "id": "82583cd7-a826-4895-8441-18fd599d32e1",
   "metadata": {},
   "outputs": [
    {
     "data": {
      "text/plain": [
       "['123', 'Main', 'Street']"
      ]
     },
     "execution_count": 169,
     "metadata": {},
     "output_type": "execute_result"
    }
   ],
   "source": [
    "re.split('\\$+', '123$Main$$Street')"
   ]
  },
  {
   "cell_type": "markdown",
   "id": "2a471b3c-681a-4904-8662-d12f92495964",
   "metadata": {},
   "source": [
    "8.12.3 Other Search FUnctions; Accessing Matchs"
   ]
  },
  {
   "cell_type": "code",
   "execution_count": 171,
   "id": "f33f1add-db2d-4c5c-9102-7170c8ad512f",
   "metadata": {},
   "outputs": [],
   "source": [
    "#search looks for first occurrence of a substring\n",
    "#group returns the substring\n",
    "result = re.search('Python', 'Python is fun')"
   ]
  },
  {
   "cell_type": "code",
   "execution_count": 172,
   "id": "098de37a-22ab-41f1-befc-7cf347ae8e40",
   "metadata": {},
   "outputs": [
    {
     "data": {
      "text/plain": [
       "'Python'"
      ]
     },
     "execution_count": 172,
     "metadata": {},
     "output_type": "execute_result"
    }
   ],
   "source": [
    "result.group() if result else 'not found'"
   ]
  },
  {
   "cell_type": "code",
   "execution_count": 174,
   "id": "87b97c3a-5ca4-4732-adc2-37298e2dcb44",
   "metadata": {},
   "outputs": [],
   "source": [
    "result2 = re.search ('fun!', 'Python is fun')"
   ]
  },
  {
   "cell_type": "code",
   "execution_count": 175,
   "id": "36f71564-179a-42a2-8aee-034bf40dba54",
   "metadata": {},
   "outputs": [
    {
     "data": {
      "text/plain": [
       "'Python'"
      ]
     },
     "execution_count": 175,
     "metadata": {},
     "output_type": "execute_result"
    }
   ],
   "source": [
    "result.group() if result else 'not found'"
   ]
  },
  {
   "cell_type": "code",
   "execution_count": 176,
   "id": "1261752c-9930-445f-b0d9-560d02f1c6e5",
   "metadata": {},
   "outputs": [],
   "source": [
    "#many re module functions have optional flag keywords\n",
    "#can use re module's IGNORECASE constant to perform case-insensitive search\n",
    "result3 = re.search('Sam', 'SAM WHITE', flags=re.IGNORECASE)"
   ]
  },
  {
   "cell_type": "code",
   "execution_count": 177,
   "id": "d24b3fec-35e0-433f-bd69-4a390264b9c8",
   "metadata": {},
   "outputs": [
    {
     "data": {
      "text/plain": [
       "'SAM'"
      ]
     },
     "execution_count": 177,
     "metadata": {},
     "output_type": "execute_result"
    }
   ],
   "source": [
    "result3.group() if result3 else 'not found'"
   ]
  },
  {
   "cell_type": "code",
   "execution_count": 178,
   "id": "4370105f-3eb0-40d8-bba3-09e634b84c09",
   "metadata": {},
   "outputs": [],
   "source": [
    "# ^ metacharacter at beginning of regular expression (not inside []) indicates that the expression matches\n",
    "#only the beginning of a string\n",
    "result = re.search('^Python', 'Python is fun')"
   ]
  },
  {
   "cell_type": "code",
   "execution_count": 179,
   "id": "92215cf6-938e-4d18-8b2d-eeac2dfaad09",
   "metadata": {},
   "outputs": [
    {
     "data": {
      "text/plain": [
       "'Python'"
      ]
     },
     "execution_count": 179,
     "metadata": {},
     "output_type": "execute_result"
    }
   ],
   "source": [
    "result.group() if result else 'not found'"
   ]
  },
  {
   "cell_type": "code",
   "execution_count": 180,
   "id": "5beb0e75-cb84-44cf-89f4-7d0ed1bcefcc",
   "metadata": {},
   "outputs": [],
   "source": [
    "result = re.search('^fun', 'Python is fun')"
   ]
  },
  {
   "cell_type": "code",
   "execution_count": 181,
   "id": "fc7ba985-f95a-4ca1-9b95-8958473fce7b",
   "metadata": {},
   "outputs": [
    {
     "data": {
      "text/plain": [
       "'not found'"
      ]
     },
     "execution_count": 181,
     "metadata": {},
     "output_type": "execute_result"
    }
   ],
   "source": [
    "result.group() if result else 'not found'"
   ]
  },
  {
   "cell_type": "code",
   "execution_count": 182,
   "id": "1096315e-7dcd-47ed-b100-acf9ed6bd8ab",
   "metadata": {},
   "outputs": [],
   "source": [
    "# $ metacharacter at end of RE indicates teh expression matches only the end of a string\n",
    "result = re.search('Python$', 'Python is fun')"
   ]
  },
  {
   "cell_type": "code",
   "execution_count": 183,
   "id": "903d6bcf-b932-4385-88d9-8bb3504fea06",
   "metadata": {},
   "outputs": [
    {
     "data": {
      "text/plain": [
       "'not found'"
      ]
     },
     "execution_count": 183,
     "metadata": {},
     "output_type": "execute_result"
    }
   ],
   "source": [
    "result.group() if result else 'not found'"
   ]
  },
  {
   "cell_type": "code",
   "execution_count": 185,
   "id": "b05fe35a-0b1c-4ded-b7c8-655669fc7134",
   "metadata": {},
   "outputs": [],
   "source": [
    "result = re.search('fun$', 'Python is fun')"
   ]
  },
  {
   "cell_type": "code",
   "execution_count": 186,
   "id": "55928511-a6df-4cd0-8c9e-68dc0acfedf7",
   "metadata": {},
   "outputs": [
    {
     "data": {
      "text/plain": [
       "'fun'"
      ]
     },
     "execution_count": 186,
     "metadata": {},
     "output_type": "execute_result"
    }
   ],
   "source": [
    "result.group() if result else 'not found'"
   ]
  },
  {
   "cell_type": "code",
   "execution_count": 187,
   "id": "4c3fb616-0741-4950-b9af-0a0ab2a3c357",
   "metadata": {},
   "outputs": [],
   "source": [
    "#findall finds every matching substring in a string and returns a list of the matching substrings\n",
    "contact = 'Wally White, Home: 555-555-1234, Work: 555-555-4321'"
   ]
  },
  {
   "cell_type": "code",
   "execution_count": 189,
   "id": "af11db3b-3300-46de-b5f6-bdff13d7dba1",
   "metadata": {},
   "outputs": [
    {
     "data": {
      "text/plain": [
       "['555-555-1234', '555-555-4321']"
      ]
     },
     "execution_count": 189,
     "metadata": {},
     "output_type": "execute_result"
    }
   ],
   "source": [
    "re.findall(r'\\d{3}-\\d{3}-\\d{4}', contact)"
   ]
  },
  {
   "cell_type": "code",
   "execution_count": 190,
   "id": "badf2a58-bf0a-4c3a-bcb0-28e6836338fe",
   "metadata": {},
   "outputs": [
    {
     "name": "stdout",
     "output_type": "stream",
     "text": [
      "555-555-1234\n",
      "555-555-4321\n"
     ]
    }
   ],
   "source": [
    "#finditer returns one match at a time, whereas findall returns all matches at once\n",
    "for phone in re.finditer(r'\\d{3}-\\d{3}-\\d{4}', contact):\n",
    "    print(phone.group())"
   ]
  },
  {
   "cell_type": "code",
   "execution_count": 191,
   "id": "7d0b798c-bed1-469a-87b2-a7a838106bc4",
   "metadata": {},
   "outputs": [],
   "source": [
    "# can use ( ) to capture substring in a match\n",
    "text = 'Charlie Cyan, e-mail: demo1@deitel.com'"
   ]
  },
  {
   "cell_type": "code",
   "execution_count": 192,
   "id": "5209d2ed-947b-4303-8552-6bc9f38534b3",
   "metadata": {},
   "outputs": [],
   "source": [
    "pattern = r'([A-Z][a-z]+ [A-Z][a-z]+), e-mail: (\\w+@\\w+\\.\\w{3})'"
   ]
  },
  {
   "cell_type": "code",
   "execution_count": 193,
   "id": "6b29aaa8-db1d-4e82-98f9-a6800359db90",
   "metadata": {},
   "outputs": [],
   "source": [
    "result = re.search(pattern, text)"
   ]
  },
  {
   "cell_type": "code",
   "execution_count": 194,
   "id": "f376e8ca-8828-4257-920e-1675585aaa4d",
   "metadata": {},
   "outputs": [
    {
     "data": {
      "text/plain": [
       "'Charlie Cyan, e-mail: demo1@deitel.com'"
      ]
     },
     "execution_count": 194,
     "metadata": {},
     "output_type": "execute_result"
    }
   ],
   "source": [
    "result.group()"
   ]
  },
  {
   "cell_type": "code",
   "execution_count": 196,
   "id": "80962d7b-ae45-4e2d-979c-bfca7bc19d8b",
   "metadata": {},
   "outputs": [
    {
     "data": {
      "text/plain": [
       "'Charlie Cyan'"
      ]
     },
     "execution_count": 196,
     "metadata": {},
     "output_type": "execute_result"
    }
   ],
   "source": [
    "#the captured substrings are numbered from 1, unlike list indices\n",
    "result.group(1)"
   ]
  },
  {
   "cell_type": "code",
   "execution_count": 197,
   "id": "fcd58d8a-b93e-4c93-bb28-0dd7918f4a6c",
   "metadata": {},
   "outputs": [
    {
     "data": {
      "text/plain": [
       "'demo1@deitel.com'"
      ]
     },
     "execution_count": 197,
     "metadata": {},
     "output_type": "execute_result"
    }
   ],
   "source": [
    "result.group(2)"
   ]
  },
  {
   "cell_type": "markdown",
   "id": "2ec73046-140e-446e-bbfc-5810993258fb",
   "metadata": {},
   "source": [
    "8.12.2 Self Check 2"
   ]
  },
  {
   "cell_type": "code",
   "execution_count": 198,
   "id": "338095ea-ce89-4920-9c5c-50e52f9889eb",
   "metadata": {},
   "outputs": [],
   "source": [
    "result = re.search(r'(\\d+) ([-+*/]) (\\d+)', '10 + 5')"
   ]
  },
  {
   "cell_type": "code",
   "execution_count": 199,
   "id": "ec08b055-24cc-484b-be41-d24f97101486",
   "metadata": {},
   "outputs": [
    {
     "data": {
      "text/plain": [
       "('10', '+', '5')"
      ]
     },
     "execution_count": 199,
     "metadata": {},
     "output_type": "execute_result"
    }
   ],
   "source": [
    "result.groups()"
   ]
  },
  {
   "cell_type": "code",
   "execution_count": 200,
   "id": "5799b637-a7cb-457e-8375-862086b29260",
   "metadata": {},
   "outputs": [
    {
     "data": {
      "text/plain": [
       "'10'"
      ]
     },
     "execution_count": 200,
     "metadata": {},
     "output_type": "execute_result"
    }
   ],
   "source": [
    "result.group(1)"
   ]
  },
  {
   "cell_type": "code",
   "execution_count": 201,
   "id": "7166126a-514c-4148-a9a5-a9ea0ebcdc23",
   "metadata": {},
   "outputs": [
    {
     "data": {
      "text/plain": [
       "'+'"
      ]
     },
     "execution_count": 201,
     "metadata": {},
     "output_type": "execute_result"
    }
   ],
   "source": [
    "result.group(2)"
   ]
  },
  {
   "cell_type": "code",
   "execution_count": 202,
   "id": "d56ce8a7-93ad-443a-bd0d-85c1d0192cba",
   "metadata": {},
   "outputs": [
    {
     "data": {
      "text/plain": [
       "'5'"
      ]
     },
     "execution_count": 202,
     "metadata": {},
     "output_type": "execute_result"
    }
   ],
   "source": [
    "result.group(3)"
   ]
  },
  {
   "cell_type": "markdown",
   "id": "7dfe1f38-8c6d-4385-bbcc-6cfca6f7772f",
   "metadata": {},
   "source": [
    "8.13 Intro to Data Science: Pandas, Regular Expressions and Data Munging"
   ]
  },
  {
   "cell_type": "code",
   "execution_count": 203,
   "id": "90e5cc07-d4bd-4970-8412-b8b5b4c63b2d",
   "metadata": {},
   "outputs": [],
   "source": [
    "#data validation\n",
    "import pandas as pd"
   ]
  },
  {
   "cell_type": "code",
   "execution_count": 204,
   "id": "151c27fa-9352-4ccb-bd83-0927ccae96ef",
   "metadata": {},
   "outputs": [],
   "source": [
    "zips = pd.Series({'Boston': '02215', 'Miami': '3310'})"
   ]
  },
  {
   "cell_type": "code",
   "execution_count": 205,
   "id": "bc8078c5-5e4f-497e-a1e5-0bd353e95ce9",
   "metadata": {},
   "outputs": [
    {
     "data": {
      "text/plain": [
       "Boston    02215\n",
       "Miami      3310\n",
       "dtype: object"
      ]
     },
     "execution_count": 205,
     "metadata": {},
     "output_type": "execute_result"
    }
   ],
   "source": [
    "zips"
   ]
  },
  {
   "cell_type": "code",
   "execution_count": 206,
   "id": "f6c8ebfd-594f-40d1-996c-6282e116bc47",
   "metadata": {},
   "outputs": [
    {
     "data": {
      "text/plain": [
       "Boston     True\n",
       "Miami     False\n",
       "dtype: bool"
      ]
     },
     "execution_count": 206,
     "metadata": {},
     "output_type": "execute_result"
    }
   ],
   "source": [
    "zips.str.match(r'\\d{5}')"
   ]
  },
  {
   "cell_type": "code",
   "execution_count": 207,
   "id": "a2284601-6539-4df5-908d-ce9507fe7643",
   "metadata": {},
   "outputs": [],
   "source": [
    "#Zach Fuller has completed teh zip code portion of 8.13"
   ]
  },
  {
   "cell_type": "code",
   "execution_count": 211,
   "id": "c1a0b9c9-6133-4679-8f3a-3a25a23ec73f",
   "metadata": {},
   "outputs": [],
   "source": [
    "cities = pd.Series(['Boston, MA 02215', 'Miami, FL 33101'])"
   ]
  },
  {
   "cell_type": "code",
   "execution_count": 212,
   "id": "601b5890-3723-47e4-926e-8ffdb7890a79",
   "metadata": {},
   "outputs": [
    {
     "data": {
      "text/plain": [
       "0    Boston, MA 02215\n",
       "1     Miami, FL 33101\n",
       "dtype: object"
      ]
     },
     "execution_count": 212,
     "metadata": {},
     "output_type": "execute_result"
    }
   ],
   "source": [
    "cities"
   ]
  },
  {
   "cell_type": "code",
   "execution_count": 213,
   "id": "402535c3-fa68-4cb6-98ca-68605d43741f",
   "metadata": {},
   "outputs": [
    {
     "data": {
      "text/plain": [
       "0    True\n",
       "1    True\n",
       "dtype: bool"
      ]
     },
     "execution_count": 213,
     "metadata": {},
     "output_type": "execute_result"
    }
   ],
   "source": [
    "cities.str.contains(r' [A-Z]{2} ')"
   ]
  },
  {
   "cell_type": "code",
   "execution_count": 214,
   "id": "3e3fbba8-9a0d-4a61-a7d0-585c78f1c61a",
   "metadata": {},
   "outputs": [
    {
     "data": {
      "text/plain": [
       "0    False\n",
       "1    False\n",
       "dtype: bool"
      ]
     },
     "execution_count": 214,
     "metadata": {},
     "output_type": "execute_result"
    }
   ],
   "source": [
    "cities.str.match(r' [A-Z]{2} ')"
   ]
  },
  {
   "cell_type": "code",
   "execution_count": 215,
   "id": "8a64f2a3-f80c-4841-8821-478eeb5aee0b",
   "metadata": {},
   "outputs": [],
   "source": [
    "#Zach Fuller has completed the city portion of 8.13"
   ]
  },
  {
   "cell_type": "code",
   "execution_count": 216,
   "id": "41cf228a-39f2-4946-a718-f0f1178b0bb3",
   "metadata": {},
   "outputs": [],
   "source": [
    "contacts = [['MIke Green', 'demo1@deitel.com', '5555555555'], ['Sue Brown', 'demo2@deitel.com', '5555551234']]"
   ]
  },
  {
   "cell_type": "code",
   "execution_count": 217,
   "id": "0ed5e9dc-c9d2-476f-a271-2491fa5b69b4",
   "metadata": {},
   "outputs": [],
   "source": [
    "contactsdf = pd.DataFrame(contacts, columns =['Name', 'Email', 'Phone'])"
   ]
  },
  {
   "cell_type": "code",
   "execution_count": 218,
   "id": "6680fceb-5aec-46a3-8e9a-db909f9b59b3",
   "metadata": {},
   "outputs": [
    {
     "data": {
      "text/html": [
       "<div>\n",
       "<style scoped>\n",
       "    .dataframe tbody tr th:only-of-type {\n",
       "        vertical-align: middle;\n",
       "    }\n",
       "\n",
       "    .dataframe tbody tr th {\n",
       "        vertical-align: top;\n",
       "    }\n",
       "\n",
       "    .dataframe thead th {\n",
       "        text-align: right;\n",
       "    }\n",
       "</style>\n",
       "<table border=\"1\" class=\"dataframe\">\n",
       "  <thead>\n",
       "    <tr style=\"text-align: right;\">\n",
       "      <th></th>\n",
       "      <th>Name</th>\n",
       "      <th>Email</th>\n",
       "      <th>Phone</th>\n",
       "    </tr>\n",
       "  </thead>\n",
       "  <tbody>\n",
       "    <tr>\n",
       "      <th>0</th>\n",
       "      <td>MIke Green</td>\n",
       "      <td>demo1@deitel.com</td>\n",
       "      <td>5555555555</td>\n",
       "    </tr>\n",
       "    <tr>\n",
       "      <th>1</th>\n",
       "      <td>Sue Brown</td>\n",
       "      <td>demo2@deitel.com</td>\n",
       "      <td>5555551234</td>\n",
       "    </tr>\n",
       "  </tbody>\n",
       "</table>\n",
       "</div>"
      ],
      "text/plain": [
       "         Name             Email       Phone\n",
       "0  MIke Green  demo1@deitel.com  5555555555\n",
       "1   Sue Brown  demo2@deitel.com  5555551234"
      ]
     },
     "execution_count": 218,
     "metadata": {},
     "output_type": "execute_result"
    }
   ],
   "source": [
    "contactsdf"
   ]
  },
  {
   "cell_type": "code",
   "execution_count": 219,
   "id": "b748c35d-2934-4b7c-8b69-860a27ee7141",
   "metadata": {},
   "outputs": [],
   "source": [
    "def get_formatted_phone(value):\n",
    "    result = re.fullmatch(r'(\\d{3})(\\d{3})(\\d{4})', value)\n",
    "    return '-'.join(result.groups()) if result else value"
   ]
  },
  {
   "cell_type": "code",
   "execution_count": 220,
   "id": "aa475f97-9877-424b-aa8f-4724118b23ce",
   "metadata": {},
   "outputs": [],
   "source": [
    "formatted_phone = contactsdf['Phone'].map(get_formatted_phone)"
   ]
  },
  {
   "cell_type": "code",
   "execution_count": 221,
   "id": "af71bc1d-132a-481d-969d-c78c0ca3f5d4",
   "metadata": {},
   "outputs": [
    {
     "data": {
      "text/plain": [
       "0    555-555-5555\n",
       "1    555-555-1234\n",
       "Name: Phone, dtype: object"
      ]
     },
     "execution_count": 221,
     "metadata": {},
     "output_type": "execute_result"
    }
   ],
   "source": [
    "formatted_phone"
   ]
  },
  {
   "cell_type": "code",
   "execution_count": 222,
   "id": "1290cdc5-9701-48fa-b608-a5361fadbbdc",
   "metadata": {},
   "outputs": [],
   "source": [
    "contactsdf['Phone'] = formatted_phone"
   ]
  },
  {
   "cell_type": "code",
   "execution_count": 223,
   "id": "0f488245-90d6-4d56-86df-ac47dad90bbe",
   "metadata": {},
   "outputs": [
    {
     "data": {
      "text/html": [
       "<div>\n",
       "<style scoped>\n",
       "    .dataframe tbody tr th:only-of-type {\n",
       "        vertical-align: middle;\n",
       "    }\n",
       "\n",
       "    .dataframe tbody tr th {\n",
       "        vertical-align: top;\n",
       "    }\n",
       "\n",
       "    .dataframe thead th {\n",
       "        text-align: right;\n",
       "    }\n",
       "</style>\n",
       "<table border=\"1\" class=\"dataframe\">\n",
       "  <thead>\n",
       "    <tr style=\"text-align: right;\">\n",
       "      <th></th>\n",
       "      <th>Name</th>\n",
       "      <th>Email</th>\n",
       "      <th>Phone</th>\n",
       "    </tr>\n",
       "  </thead>\n",
       "  <tbody>\n",
       "    <tr>\n",
       "      <th>0</th>\n",
       "      <td>MIke Green</td>\n",
       "      <td>demo1@deitel.com</td>\n",
       "      <td>555-555-5555</td>\n",
       "    </tr>\n",
       "    <tr>\n",
       "      <th>1</th>\n",
       "      <td>Sue Brown</td>\n",
       "      <td>demo2@deitel.com</td>\n",
       "      <td>555-555-1234</td>\n",
       "    </tr>\n",
       "  </tbody>\n",
       "</table>\n",
       "</div>"
      ],
      "text/plain": [
       "         Name             Email         Phone\n",
       "0  MIke Green  demo1@deitel.com  555-555-5555\n",
       "1   Sue Brown  demo2@deitel.com  555-555-1234"
      ]
     },
     "execution_count": 223,
     "metadata": {},
     "output_type": "execute_result"
    }
   ],
   "source": [
    "contactsdf"
   ]
  },
  {
   "cell_type": "code",
   "execution_count": 224,
   "id": "fb07929a-407c-44cd-a9bb-95fcdd61dfcb",
   "metadata": {},
   "outputs": [],
   "source": [
    "#Zach Fuller has completed the contact portion of 8.13"
   ]
  },
  {
   "cell_type": "markdown",
   "id": "b3447eaf-95b1-4ab2-9d36-0b72db26142a",
   "metadata": {},
   "source": [
    "8.13 Self Check 2"
   ]
  },
  {
   "cell_type": "code",
   "execution_count": 225,
   "id": "3ff1287b-94bc-4a0e-a4ef-f12e7e1f50ca",
   "metadata": {},
   "outputs": [],
   "source": [
    "contacts = [['Mike Green', 'demo1@deitel.com', '5555555555'], ['Sue Brown', 'demo2@deitel.com', '5555551234']]"
   ]
  },
  {
   "cell_type": "code",
   "execution_count": 228,
   "id": "570774a9-824c-4c51-ae70-a4c4a2357236",
   "metadata": {},
   "outputs": [],
   "source": [
    "contactdf = pd.DataFrame(contacts, columns=['Name', 'Email', 'Phone'])"
   ]
  },
  {
   "cell_type": "code",
   "execution_count": 229,
   "id": "df5272de-5016-49ba-a880-813f0424ba2c",
   "metadata": {},
   "outputs": [],
   "source": [
    "def get_formatted_phone(value):\n",
    "    result = re.fullmatch(r'(\\d{3}) (\\d{3}) (\\d{4})', value)\n",
    "    if result:\n",
    "        part1, part2, part3 = result.groups()\n",
    "        return '(' + part1 + ') ' + part2 + '-' + part3\n",
    "    else:\n",
    "        return value"
   ]
  },
  {
   "cell_type": "code",
   "execution_count": 230,
   "id": "a68016d1-aa88-46c4-bd1f-9fc858b2d013",
   "metadata": {},
   "outputs": [],
   "source": [
    "contactsdf['Phone'] = contactsdf['Phone'].map(get_formatted_phone)"
   ]
  },
  {
   "cell_type": "code",
   "execution_count": 231,
   "id": "2a7a7e02-076f-47ab-ac2f-78d51f3775fc",
   "metadata": {},
   "outputs": [
    {
     "data": {
      "text/html": [
       "<div>\n",
       "<style scoped>\n",
       "    .dataframe tbody tr th:only-of-type {\n",
       "        vertical-align: middle;\n",
       "    }\n",
       "\n",
       "    .dataframe tbody tr th {\n",
       "        vertical-align: top;\n",
       "    }\n",
       "\n",
       "    .dataframe thead th {\n",
       "        text-align: right;\n",
       "    }\n",
       "</style>\n",
       "<table border=\"1\" class=\"dataframe\">\n",
       "  <thead>\n",
       "    <tr style=\"text-align: right;\">\n",
       "      <th></th>\n",
       "      <th>Name</th>\n",
       "      <th>Email</th>\n",
       "      <th>Phone</th>\n",
       "    </tr>\n",
       "  </thead>\n",
       "  <tbody>\n",
       "    <tr>\n",
       "      <th>0</th>\n",
       "      <td>MIke Green</td>\n",
       "      <td>demo1@deitel.com</td>\n",
       "      <td>555-555-5555</td>\n",
       "    </tr>\n",
       "    <tr>\n",
       "      <th>1</th>\n",
       "      <td>Sue Brown</td>\n",
       "      <td>demo2@deitel.com</td>\n",
       "      <td>555-555-1234</td>\n",
       "    </tr>\n",
       "  </tbody>\n",
       "</table>\n",
       "</div>"
      ],
      "text/plain": [
       "         Name             Email         Phone\n",
       "0  MIke Green  demo1@deitel.com  555-555-5555\n",
       "1   Sue Brown  demo2@deitel.com  555-555-1234"
      ]
     },
     "execution_count": 231,
     "metadata": {},
     "output_type": "execute_result"
    }
   ],
   "source": [
    "contactsdf"
   ]
  },
  {
   "cell_type": "code",
   "execution_count": null,
   "id": "a78ed488-9e8d-4756-bdbf-414680b0564b",
   "metadata": {},
   "outputs": [],
   "source": []
  }
 ],
 "metadata": {
  "kernelspec": {
   "display_name": "Python 3 (ipykernel)",
   "language": "python",
   "name": "python3"
  },
  "language_info": {
   "codemirror_mode": {
    "name": "ipython",
    "version": 3
   },
   "file_extension": ".py",
   "mimetype": "text/x-python",
   "name": "python",
   "nbconvert_exporter": "python",
   "pygments_lexer": "ipython3",
   "version": "3.9.12"
  }
 },
 "nbformat": 4,
 "nbformat_minor": 5
}
